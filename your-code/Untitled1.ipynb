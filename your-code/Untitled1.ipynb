{
 "cells": [
  {
   "cell_type": "code",
   "execution_count": 18,
   "id": "5a4c24c0",
   "metadata": {},
   "outputs": [
    {
     "data": {
      "text/plain": [
       "[8, 9, 4, 5, 67, 7]"
      ]
     },
     "execution_count": 18,
     "metadata": {},
     "output_type": "execute_result"
    }
   ],
   "source": [
    "bla=[1,5,7,8,9,4,5,67,7]\n",
    "bla=bla[3:]\n",
    "bla"
   ]
  },
  {
   "cell_type": "code",
   "execution_count": 48,
   "id": "97520327",
   "metadata": {},
   "outputs": [],
   "source": [
    "def partir(x):\n",
    "    return x.split(\"-\")"
   ]
  },
  {
   "cell_type": "code",
   "execution_count": 49,
   "id": "7444d57b",
   "metadata": {},
   "outputs": [
    {
     "data": {
      "text/plain": [
       "[['aaa'], ['bbb'], ['ccc', 'ddd']]"
      ]
     },
     "execution_count": 49,
     "metadata": {},
     "output_type": "execute_result"
    }
   ],
   "source": [
    "lista=list(map(partir,[\"aaa\",\"bbb\",\"ccc-ddd\"]))\n",
    "lista"
   ]
  },
  {
   "cell_type": "code",
   "execution_count": null,
   "id": "74b47856",
   "metadata": {},
   "outputs": [],
   "source": []
  },
  {
   "cell_type": "code",
   "execution_count": 46,
   "id": "b472bd5a",
   "metadata": {},
   "outputs": [
    {
     "data": {
      "text/plain": [
       "['htfhtgc', 'tvugv']"
      ]
     },
     "execution_count": 46,
     "metadata": {},
     "output_type": "execute_result"
    }
   ],
   "source": [
    "\"htfhtgc,tvugv\".split(\",\")"
   ]
  },
  {
   "cell_type": "code",
   "execution_count": 47,
   "id": "f382d9c4",
   "metadata": {},
   "outputs": [
    {
     "data": {
      "text/plain": [
       "['htfhtgc-tvugv']"
      ]
     },
     "execution_count": 47,
     "metadata": {},
     "output_type": "execute_result"
    }
   ],
   "source": [
    "\"htfhtgc-tvugv\".split(\",\")"
   ]
  },
  {
   "cell_type": "code",
   "execution_count": null,
   "id": "23fd0350",
   "metadata": {},
   "outputs": [],
   "source": []
  },
  {
   "cell_type": "code",
   "execution_count": 51,
   "id": "5529d361",
   "metadata": {},
   "outputs": [],
   "source": [
    "def word_filter(x):\n",
    "    word_list = ['and', 'the', 'a', 'an']\n",
    "    return x not in word_list"
   ]
  },
  {
   "cell_type": "code",
   "execution_count": 52,
   "id": "faecee19",
   "metadata": {},
   "outputs": [
    {
     "data": {
      "text/plain": [
       "True"
      ]
     },
     "execution_count": 52,
     "metadata": {},
     "output_type": "execute_result"
    }
   ],
   "source": [
    "word_filter(\"John\")"
   ]
  },
  {
   "cell_type": "code",
   "execution_count": 53,
   "id": "0d851f0a",
   "metadata": {},
   "outputs": [
    {
     "data": {
      "text/plain": [
       "False"
      ]
     },
     "execution_count": 53,
     "metadata": {},
     "output_type": "execute_result"
    }
   ],
   "source": [
    "word_filter(\"and\")"
   ]
  },
  {
   "cell_type": "code",
   "execution_count": 54,
   "id": "43e55f4f",
   "metadata": {},
   "outputs": [],
   "source": [
    "def concat_space(a, b):\n",
    "    '''\n",
    "    Input:Two strings\n",
    "    Output: A single string separated by a space\n",
    "        \n",
    "    Example:\n",
    "    Input: 'John', 'Smith'\n",
    "    Output: 'John Smith'\n",
    "    '''\n",
    "    \n",
    "    # your code here\n",
    "    return a+\" \"+b"
   ]
  },
  {
   "cell_type": "code",
   "execution_count": 55,
   "id": "f8c4b4b9",
   "metadata": {},
   "outputs": [
    {
     "data": {
      "text/plain": [
       "'hola mundo'"
      ]
     },
     "execution_count": 55,
     "metadata": {},
     "output_type": "execute_result"
    }
   ],
   "source": [
    "concat_space(\"hola\",\"mundo\")"
   ]
  },
  {
   "cell_type": "code",
   "execution_count": null,
   "id": "fd99315e",
   "metadata": {},
   "outputs": [],
   "source": []
  }
 ],
 "metadata": {
  "kernelspec": {
   "display_name": "Python 3",
   "language": "python",
   "name": "python3"
  },
  "language_info": {
   "codemirror_mode": {
    "name": "ipython",
    "version": 3
   },
   "file_extension": ".py",
   "mimetype": "text/x-python",
   "name": "python",
   "nbconvert_exporter": "python",
   "pygments_lexer": "ipython3",
   "version": "3.8.8"
  }
 },
 "nbformat": 4,
 "nbformat_minor": 5
}
