{
 "cells": [
  {
   "cell_type": "markdown",
   "id": "576731f7",
   "metadata": {},
   "source": [
    "**Example:**\n",
    "\n",
    "eggs = (1,3,8,3,2)\n",
    "\n",
    "my_listComprehension = [1/egg for egg in eggs]\n",
    "\n",
    "print(my_listComprehension)\n"
   ]
  },
  {
   "cell_type": "markdown",
   "id": "cf2623ae",
   "metadata": {},
   "source": [
    "# Insert here the module/library import statements "
   ]
  },
  {
   "cell_type": "code",
   "execution_count": 26,
   "id": "630d7e4d",
   "metadata": {},
   "outputs": [],
   "source": [
    "import os\n",
    "import random"
   ]
  },
  {
   "cell_type": "markdown",
   "id": "59d96563",
   "metadata": {},
   "source": [
    "\n",
    "# Calculate the square number of the first 20 numbers. Use square as the name of the list.\n",
    "Remember to use list comprehensions and to print your results"
   ]
  },
  {
   "cell_type": "code",
   "execution_count": 1,
   "id": "4c3d2716",
   "metadata": {},
   "outputs": [
    {
     "name": "stdout",
     "output_type": "stream",
     "text": [
      "[1, 4, 9, 16, 25, 36, 49, 64, 81, 100, 121, 144, 169, 196, 225, 256, 289, 324, 361, 400]\n"
     ]
    }
   ],
   "source": [
    "square = [n**2 for n in range (1, 21)]\n",
    "print(square)"
   ]
  },
  {
   "cell_type": "markdown",
   "id": "1207cb2c",
   "metadata": {},
   "source": []
  },
  {
   "cell_type": "markdown",
   "id": "b421e0cb",
   "metadata": {},
   "source": [
    "# Calculate the square root of the first 100 numbers. Use sqrt as the name of the list.\n",
    "You will probably need to install math library with pip and import it in this file.\n",
    "\n",
    "Remember to use list comprehensions and to print your results\n"
   ]
  },
  {
   "cell_type": "code",
   "execution_count": 2,
   "id": "c047115a",
   "metadata": {},
   "outputs": [
    {
     "name": "stdout",
     "output_type": "stream",
     "text": [
      "[1, 4, 9, 16, 25, 36, 49, 64, 81, 100, 121, 144, 169, 196, 225, 256, 289, 324, 361, 400]\n"
     ]
    }
   ],
   "source": [
    "sqrt = [n**0.5 for n in range (1, 101)]\n",
    "print(square)"
   ]
  },
  {
   "cell_type": "markdown",
   "id": "f4bfca8d",
   "metadata": {},
   "source": [
    "\n",
    "# Create this list [-10,-9,-8,-7,-6,-5,-4,-3,-2,-1,0]. Use my_list as the name of the list.\n",
    "Remember to use list comprehensions and to print your results"
   ]
  },
  {
   "cell_type": "code",
   "execution_count": 3,
   "id": "e23d87ea",
   "metadata": {},
   "outputs": [
    {
     "name": "stdout",
     "output_type": "stream",
     "text": [
      "[-10, -9, -8, -7, -6, -5, -4, -3, -2, -1, 0]\n"
     ]
    }
   ],
   "source": [
    "my_list = [n for n in range (-10, 1)]\n",
    "print(my_list)"
   ]
  },
  {
   "cell_type": "markdown",
   "id": "62592d9c",
   "metadata": {},
   "source": [
    "\n",
    "# Find the odd numbers from 1-100. Use odds as the name of the list. \n",
    "Remember to use list comprehensions and to print your results"
   ]
  },
  {
   "cell_type": "code",
   "execution_count": 4,
   "id": "d8d1c865",
   "metadata": {},
   "outputs": [
    {
     "name": "stdout",
     "output_type": "stream",
     "text": [
      "[1, 3, 5, 7, 9, 11, 13, 15, 17, 19, 21, 23, 25, 27, 29, 31, 33, 35, 37, 39, 41, 43, 45, 47, 49, 51, 53, 55, 57, 59, 61, 63, 65, 67, 69, 71, 73, 75, 77, 79, 81, 83, 85, 87, 89, 91, 93, 95, 97, 99]\n"
     ]
    }
   ],
   "source": [
    "odds = [ n for n in range (1,101) if n %2 !=0 ]\n",
    "print(odds)"
   ]
  },
  {
   "cell_type": "markdown",
   "id": "d8b74c2a",
   "metadata": {},
   "source": [
    "# Find all of the numbers from 1-1000 that are divisible by 7. Use divisible_by_seven as the name of the list.\n",
    "Remember to use list comprehensions and to print your results"
   ]
  },
  {
   "cell_type": "code",
   "execution_count": 5,
   "id": "6a9cfb8c",
   "metadata": {},
   "outputs": [
    {
     "name": "stdout",
     "output_type": "stream",
     "text": [
      "[7, 14, 21, 28, 35, 42, 49, 56, 63, 70, 77, 84, 91, 98, 105, 112, 119, 126, 133, 140, 147, 154, 161, 168, 175, 182, 189, 196, 203, 210, 217, 224, 231, 238, 245, 252, 259, 266, 273, 280, 287, 294, 301, 308, 315, 322, 329, 336, 343, 350, 357, 364, 371, 378, 385, 392, 399, 406, 413, 420, 427, 434, 441, 448, 455, 462, 469, 476, 483, 490, 497, 504, 511, 518, 525, 532, 539, 546, 553, 560, 567, 574, 581, 588, 595, 602, 609, 616, 623, 630, 637, 644, 651, 658, 665, 672, 679, 686, 693, 700, 707, 714, 721, 728, 735, 742, 749, 756, 763, 770, 777, 784, 791, 798, 805, 812, 819, 826, 833, 840, 847, 854, 861, 868, 875, 882, 889, 896, 903, 910, 917, 924, 931, 938, 945, 952, 959, 966, 973, 980, 987, 994]\n"
     ]
    }
   ],
   "source": [
    "divisible_by_seven = [ n for n in range (1,1001) if n %7 ==0 ]\n",
    "print(divisible_by_seven)"
   ]
  },
  {
   "cell_type": "markdown",
   "id": "6e6f21e0",
   "metadata": {},
   "source": [
    "# Remove all of the vowels in a string. Hint: make a list of the non-vowels. Use non_vowels as the name of the list.\n",
    "Remember to use list comprehensions and to print your results"
   ]
  },
  {
   "cell_type": "code",
   "execution_count": 6,
   "id": "43b38bd3",
   "metadata": {},
   "outputs": [],
   "source": [
    "# You can use the following test string but feel free to modify at your convenience\n",
    "\n",
    "teststring = 'Find all of the words in a string that are monosyllabic'"
   ]
  },
  {
   "cell_type": "code",
   "execution_count": 7,
   "id": "d5fc7426",
   "metadata": {},
   "outputs": [
    {
     "name": "stdout",
     "output_type": "stream",
     "text": [
      "['h', 'l', 'q', 't', 'l']\n"
     ]
    }
   ],
   "source": [
    "non_vowels=[\"b\",\"c\",\"d\",\"f\",\"g\",\"h\",\"j\",\"k\",\"l\",\"m\",\"n\",\"p\",\"q\",\"r\",\"s\",\"t\",\"v\",\"w\",\"x\",\"y\",\"z\"]\n",
    "a_string = \"holaquetal\"\n",
    "\n",
    "list_comp = [n for n in a_string if n in non_vowels ]\n",
    "\n",
    "print(list_comp)"
   ]
  },
  {
   "cell_type": "markdown",
   "id": "277d491e",
   "metadata": {},
   "source": [
    "# Find the capital letters (and not white space) in the sentence 'The Quick Brown Fox Jumped Over The Lazy Dog'. \n",
    "- **Use capital_letters as the name of the list.**\n",
    "\n",
    "Remember to use list comprehensions and to print your results"
   ]
  },
  {
   "cell_type": "code",
   "execution_count": 9,
   "id": "3a43399c",
   "metadata": {},
   "outputs": [
    {
     "name": "stdout",
     "output_type": "stream",
     "text": [
      "the quick brown fox jumped over the lazy dog\n",
      "<class 'str'>\n",
      "['T', 'Q', 'B', 'F', 'J', 'O', 'T', 'L', 'D']\n",
      "The Quick Brown Fox Jumped Over The Lazy Dog\n"
     ]
    }
   ],
   "source": [
    "the_sentence = 'The Quick Brown Fox Jumped Over The Lazy Dog'\n",
    "\n",
    "other = the_sentence.lower()\n",
    "print(other)\n",
    "print(type(other))\n",
    "\n",
    "capital_letters = [n for n in the_sentence if n not in other]\n",
    "\n",
    "print(capital_letters)\n",
    "print(the_sentence)"
   ]
  },
  {
   "cell_type": "markdown",
   "id": "c2603719",
   "metadata": {},
   "source": [
    "# Find all the consonants in the sentence 'The quick brown fox jumped over the lazy dog'.\n",
    " - **Use consonants as the name of the list.**\n",
    " \n",
    "Remember to use list comprehensions and to print your results.\n"
   ]
  },
  {
   "cell_type": "code",
   "execution_count": 12,
   "id": "3ddb68df",
   "metadata": {},
   "outputs": [
    {
     "name": "stdout",
     "output_type": "stream",
     "text": [
      "['h', 'q', 'c', 'k', 'b', 'r', 'w', 'n', 'f', 'x', 'j', 'm', 'p', 'd', 'v', 'r', 't', 'h', 'l', 'z', 'y', 'd', 'g']\n"
     ]
    }
   ],
   "source": [
    "sentence1 = 'The quick brown fox jumped over the lazy dog'\n",
    "listacomprensión = [n for n in sentence1 if n in non_vowels]\n",
    "print(listacomprensión)"
   ]
  },
  {
   "cell_type": "markdown",
   "id": "0f9c4004",
   "metadata": {},
   "source": [
    "# Find the folders you have in your madrid-oct-2018 local repo. Use files as name of the list.  \n",
    "\n",
    "**Hint: You will probably need to import os library and some of its modules. You will need to make some online research.**\n",
    "\n",
    "Remember to use list comprehensions and to print your results."
   ]
  },
  {
   "cell_type": "code",
   "execution_count": 46,
   "id": "22bb13eb",
   "metadata": {},
   "outputs": [
    {
     "name": "stdout",
     "output_type": "stream",
     "text": [
      "['AppData', 'apuntes_clase', 'Configuración local', 'Contacts', 'Cookies', 'C:UsersMaria', 'Datos de programa', 'Documents', 'Downloads', 'Entorno de red', 'Favorites', 'Impresoras', 'IntelGraphicsProfiles', 'lab-bash', 'lab-control-flow', 'lab-dicts-sets-tuples', 'lab-errhand_listcomp', 'lab-functions', 'lab-vikings', 'Links', 'List-Comprehension', 'Menú Inicio', 'Mis documentos', 'OneDrive', 'Plantillas', 'Reciente', 'Saved Games', 'Searches', 'SendTo', 'Sucio Prework IRONHACK', 'todo lo qe no es IH', 'Tracing', 'Videos']\n"
     ]
    }
   ],
   "source": [
    "files = [file for file in os.listdir (\"../..\") if \".\" not in file]\n",
    "print(files)"
   ]
  },
  {
   "cell_type": "markdown",
   "id": "2cdaa518",
   "metadata": {},
   "source": [
    "# Create 4 lists of 10 random numbers between 0 and 100 each. Use random_lists as the name of the list. \n",
    "**Hint: You will probably need to import random module**\n",
    "\n",
    "Remember to use list comprehensions and to print your results"
   ]
  },
  {
   "cell_type": "code",
   "execution_count": 48,
   "id": "120b29bd",
   "metadata": {},
   "outputs": [
    {
     "name": "stdout",
     "output_type": "stream",
     "text": [
      "[[37, 84, 69, 78, 24, 56, 13, 2, 9, 65], [87, 84, 44, 86, 10, 16, 31, 66, 22, 40], [72, 6, 17, 66, 19, 46, 32, 93, 43, 90], [73, 46, 69, 88, 99, 62, 58, 16, 87, 47]]\n"
     ]
    }
   ],
   "source": [
    "random_lists = [random.sample(range(0, 100),10) for n in range (4)]\n",
    "print(random_lists)\n"
   ]
  },
  {
   "cell_type": "markdown",
   "id": "b76ea171",
   "metadata": {},
   "source": [
    "# Flatten the following list of lists. Use flatten_list as the name of the output.\n",
    "\n",
    "Remember to use list comprehensions and to print your results\n"
   ]
  },
  {
   "cell_type": "code",
   "execution_count": 49,
   "id": "b3afebb7",
   "metadata": {},
   "outputs": [],
   "source": [
    "list_of_lists = [[1,2,3],[4,5,6],[7,8,9]]"
   ]
  },
  {
   "cell_type": "code",
   "execution_count": 52,
   "id": "b6bcef37",
   "metadata": {},
   "outputs": [
    {
     "name": "stdout",
     "output_type": "stream",
     "text": [
      "[1, 2, 3, 4, 5, 6, 7, 8, 9]\n"
     ]
    }
   ],
   "source": [
    "flatten_list = [n for sublista in list_of_lists for n in sublista]\n",
    "print(flatten_list)"
   ]
  },
  {
   "cell_type": "markdown",
   "id": "53c86611",
   "metadata": {},
   "source": [
    "\n",
    "# Convert the numbers of the following nested list to floats. Use floats as the name of the list. \n",
    "\n",
    "Remember to use list comprehensions and to print your results."
   ]
  },
  {
   "cell_type": "code",
   "execution_count": 55,
   "id": "7087f44e",
   "metadata": {},
   "outputs": [],
   "source": [
    "list_of_lists = [['40', '20', '10', '30'], ['20', '20', '20', '20', '20', '30', '20'], \\\n",
    "['30', '20', '30', '50', '10', '30', '20', '20', '20'], ['100', '100'], ['100', '100', '100', '100', '100'], \\\n",
    "['100', '100', '100', '100']]"
   ]
  },
  {
   "cell_type": "code",
   "execution_count": 64,
   "id": "a932aff5",
   "metadata": {
    "scrolled": true
   },
   "outputs": [
    {
     "name": "stdout",
     "output_type": "stream",
     "text": [
      "[[40.0, 20.0, 10.0, 30.0], [20.0, 20.0, 20.0, 20.0, 20.0, 30.0, 20.0], [30.0, 20.0, 30.0, 50.0, 10.0, 30.0, 20.0, 20.0, 20.0], [100.0, 100.0], [100.0, 100.0, 100.0, 100.0, 100.0], [100.0, 100.0, 100.0, 100.0]]\n"
     ]
    }
   ],
   "source": [
    "floats = [[float(n) for n in group] for group in list_of_lists]\n",
    "print(floats)"
   ]
  },
  {
   "cell_type": "markdown",
   "id": "62272da6",
   "metadata": {},
   "source": [
    "# Handle the exception thrown by the code below by using try and except blocks. \n"
   ]
  },
  {
   "cell_type": "code",
   "execution_count": 78,
   "id": "b5980ab4",
   "metadata": {},
   "outputs": [
    {
     "name": "stdout",
     "output_type": "stream",
     "text": [
      "Hay error\n",
      "Hay error\n",
      "Hay error\n"
     ]
    }
   ],
   "source": [
    "for i in ['a','b','c']:\n",
    "    \n",
    "    try:\n",
    "        print(i**2)\n",
    "        \n",
    "    except TypeError:\n",
    "        print(\"Hay error\")\n",
    "        "
   ]
  },
  {
   "cell_type": "markdown",
   "id": "bda76246",
   "metadata": {},
   "source": [
    "# Handle the exception thrown by the code below by using try and except blocks. \n",
    "\n",
    "Then use a finally block to print 'All Done.'\n",
    "\n",
    "Check in provided resources the type of error you may use. \n"
   ]
  },
  {
   "cell_type": "code",
   "execution_count": 85,
   "id": "441acd1c",
   "metadata": {},
   "outputs": [
    {
     "name": "stdout",
     "output_type": "stream",
     "text": [
      "nosepuededividirporcero\n"
     ]
    }
   ],
   "source": [
    "x = 5\n",
    "y = 0\n",
    "\n",
    "try:\n",
    "    z = x/y\n",
    "\n",
    "except ZeroDivisionError:\n",
    "    print(\"nosepuededividirporcero\")"
   ]
  },
  {
   "cell_type": "markdown",
   "id": "85ea78c5",
   "metadata": {},
   "source": [
    "# Handle the exception thrown by the code below by using try and except blocks. \n",
    "\n",
    "Check in provided resources the type of error you may use. \n"
   ]
  },
  {
   "cell_type": "code",
   "execution_count": 89,
   "id": "783a8224",
   "metadata": {},
   "outputs": [
    {
     "name": "stdout",
     "output_type": "stream",
     "text": [
      "20\n"
     ]
    }
   ],
   "source": [
    "try:\n",
    "    abc=[10,20,20]\n",
    "    print(abc[3])\n",
    "except IndexError:\n",
    "    print(abc[-1])"
   ]
  },
  {
   "cell_type": "markdown",
   "id": "10223640",
   "metadata": {},
   "source": [
    "# Handle at least two kind of different exceptions when dividing a couple of numbers provided by the user. \n",
    "\n",
    "**Hint: take a look on python input function.**\n",
    "\n",
    "Check in provided resources the type of error you may use. "
   ]
  },
  {
   "cell_type": "code",
   "execution_count": 103,
   "id": "3c1f141b",
   "metadata": {},
   "outputs": [
    {
     "name": "stdout",
     "output_type": "stream",
     "text": [
      "Aquí hay una cosa mal 0\n",
      "Aquí hay una cosa mal 1\n",
      "Aquí hay una cosa mal 2\n",
      "Aquí hay una cosa mal 3\n",
      "Aquí hay una cosa mal 4\n",
      "Aquí hay una cosa mal 5\n",
      "Aquí hay una cosa mal 6\n",
      "Aquí hay una cosa mal 7\n",
      "Aquí hay una cosa mal 8\n"
     ]
    }
   ],
   "source": [
    "\n",
    "for num in range(9):\n",
    "    try:\n",
    "        división = lista[9]/0\n",
    "\n",
    "    except IndexError:\n",
    "        print(f\"Aquí hay una cosa mal {num}\")\n",
    "\n",
    "    except ZeroDivisionError:\n",
    "        print(\"Aquí hay un error\")\n"
   ]
  },
  {
   "cell_type": "markdown",
   "id": "5d712a55",
   "metadata": {},
   "source": [
    "# Handle the exception thrown by the code below by using try and except blocks. \n",
    "\n",
    "Check in provided resources the type of error you may use. "
   ]
  },
  {
   "cell_type": "code",
   "execution_count": 105,
   "id": "b73f824c",
   "metadata": {},
   "outputs": [
    {
     "name": "stdout",
     "output_type": "stream",
     "text": [
      "el archivo no existe\n"
     ]
    }
   ],
   "source": [
    "try:\n",
    "    f = open('testfile','r')\n",
    "    f.write('Test write this')\n",
    "except FileNotFoundError:\n",
    "    print(\"el archivo no existe\")"
   ]
  },
  {
   "cell_type": "markdown",
   "id": "a028ccb8",
   "metadata": {},
   "source": [
    "# Handle the exceptions that can be thrown by the code below using try and except blocks. \n",
    "\n",
    "**Hint: the file could not exist and the data could not be convertable to int**"
   ]
  },
  {
   "cell_type": "code",
   "execution_count": 110,
   "id": "5f639ab1",
   "metadata": {},
   "outputs": [
    {
     "name": "stdout",
     "output_type": "stream",
     "text": [
      "hay error\n"
     ]
    }
   ],
   "source": [
    "try:\n",
    "    fp = open('myfile.txt')\n",
    "    line = f.readline()\n",
    "    i = int(s.strip())\n",
    "except SyntaxError:\n",
    "    print(\"hay error\")\n",
    "except FileNotFoundError:\n",
    "    print(\"hay error\")   \n"
   ]
  },
  {
   "cell_type": "markdown",
   "id": "d695245b",
   "metadata": {},
   "source": [
    "# The following function can only run on a Linux system. \n",
    "The assert in this function will throw an exception if you call it on an operating system other than Linux.\n",
    "\n",
    "Handle this exception using **try and except** blocks.\n",
    "\n",
    "You will probably need to import sys "
   ]
  },
  {
   "cell_type": "code",
   "execution_count": 114,
   "id": "479ee468",
   "metadata": {},
   "outputs": [
    {
     "name": "stdout",
     "output_type": "stream",
     "text": [
      "da error si no estás en linux\n"
     ]
    }
   ],
   "source": [
    "try:\n",
    "    def linux_interaction():\n",
    "        assert ('linux' in sys.platform), \"Function can only run on Linux systems.\"\n",
    "        print('Doing something.')\n",
    "    linux_interaction()\n",
    "\n",
    "except NameError:\n",
    "    print(\"da error si no estás en linux\")"
   ]
  },
  {
   "cell_type": "markdown",
   "id": "9310a60b",
   "metadata": {},
   "source": [
    "\n",
    "# Bonus Questions:"
   ]
  },
  {
   "cell_type": "markdown",
   "id": "2f06d3fd",
   "metadata": {},
   "source": [
    "You will need to make some research on dictionary comprehension to solve the following questions"
   ]
  },
  {
   "cell_type": "markdown",
   "id": "3108ff54",
   "metadata": {},
   "source": [
    "## Write a function that asks for an integer and prints the square of it. \n",
    "\n",
    "**Hint: we need to continually keep checking until we get an integer.**\n",
    "\n",
    "Use a while loop with a try,except, else block to account for incorrect inputs."
   ]
  },
  {
   "cell_type": "code",
   "execution_count": 135,
   "id": "94c2e76e",
   "metadata": {},
   "outputs": [
    {
     "name": "stdout",
     "output_type": "stream",
     "text": [
      "debes introducir un número\n"
     ]
    }
   ],
   "source": [
    "try:\n",
    "    numerito = int(input(\"dame un numero \"))\n",
    "    b = numerito*numerito\n",
    "    print(b)\n",
    "    \n",
    "except:\n",
    "    print(\"debes introducir un número\")"
   ]
  },
  {
   "cell_type": "markdown",
   "id": "7139da39",
   "metadata": {},
   "source": [
    "\n",
    "## Find all of the numbers from 1-1000 that are divisible by any single digit besides 1 (2-9). \n",
    "\n",
    "Use results as the name of the list \n"
   ]
  },
  {
   "cell_type": "code",
   "execution_count": 146,
   "id": "90d3aa37",
   "metadata": {},
   "outputs": [
    {
     "name": "stdout",
     "output_type": "stream",
     "text": [
      "[2, 4, 5, 6, 7, 8, 10, 12, 14, 15, 16, 18, 20, 21, 22, 24, 25, 26, 28, 30, 32, 34, 35, 36, 38, 40, 42, 44, 45, 46, 48, 49, 50, 52, 54, 55, 56, 58, 60, 62, 63, 64, 65, 66, 68, 70, 72, 74, 75, 76, 77, 78, 80, 82, 84, 85, 86, 88, 90, 91, 92, 94, 95, 96, 98, 100, 102, 104, 105, 106, 108, 110, 112, 114, 115, 116, 118, 119, 120, 122, 124, 125, 126, 128, 130, 132, 133, 134, 135, 136, 138, 140, 142, 144, 145, 146, 147, 148, 150, 152, 154, 155, 156, 158, 160, 161, 162, 164, 165, 166, 168, 170, 172, 174, 175, 176, 178, 180, 182, 184, 185, 186, 188, 189, 190, 192, 194, 195, 196, 198, 200, 202, 203, 204, 205, 206, 208, 210, 212, 214, 215, 216, 217, 218, 220, 222, 224, 225, 226, 228, 230, 231, 232, 234, 235, 236, 238, 240, 242, 244, 245, 246, 248, 250, 252, 254, 255, 256, 258, 259, 260, 262, 264, 265, 266, 268, 270, 272, 273, 274, 275, 276, 278, 280, 282, 284, 285, 286, 287, 288, 290, 292, 294, 295, 296, 298, 300, 301, 302, 304, 305, 306, 308, 310, 312, 314, 315, 316, 318, 320, 322, 324, 325, 326, 328, 329, 330, 332, 334, 335, 336, 338, 340, 342, 343, 344, 345, 346, 348, 350, 352, 354, 355, 356, 357, 358, 360, 362, 364, 365, 366, 368, 370, 371, 372, 374, 375, 376, 378, 380, 382, 384, 385, 386, 388, 390, 392, 394, 395, 396, 398, 399, 400, 402, 404, 405, 406, 408, 410, 412, 413, 414, 415, 416, 418, 420, 422, 424, 425, 426, 427, 428, 430, 432, 434, 435, 436, 438, 440, 441, 442, 444, 445, 446, 448, 450, 452, 454, 455, 456, 458, 460, 462, 464, 465, 466, 468, 469, 470, 472, 474, 475, 476, 478, 480, 482, 483, 484, 485, 486, 488, 490, 492, 494, 495, 496, 497, 498, 500, 502, 504, 505, 506, 508, 510, 511, 512, 514, 515, 516, 518, 520, 522, 524, 525, 526, 528, 530, 532, 534, 535, 536, 538, 539, 540, 542, 544, 545, 546, 548, 550, 552, 553, 554, 555, 556, 558, 560, 562, 564, 565, 566, 567, 568, 570, 572, 574, 575, 576, 578, 580, 581, 582, 584, 585, 586, 588, 590, 592, 594, 595, 596, 598, 600, 602, 604, 605, 606, 608, 609, 610, 612, 614, 615, 616, 618, 620, 622, 623, 624, 625, 626, 628, 630, 632, 634, 635, 636, 637, 638, 640, 642, 644, 645, 646, 648, 650, 651, 652, 654, 655, 656, 658, 660, 662, 664, 665, 666, 668, 670, 672, 674, 675, 676, 678, 679, 680, 682, 684, 685, 686, 688, 690, 692, 693, 694, 695, 696, 698, 700, 702, 704, 705, 706, 707, 708, 710, 712, 714, 715, 716, 718, 720, 721, 722, 724, 725, 726, 728, 730, 732, 734, 735, 736, 738, 740, 742, 744, 745, 746, 748, 749, 750, 752, 754, 755, 756, 758, 760, 762, 763, 764, 765, 766, 768, 770, 772, 774, 775, 776, 777, 778, 780, 782, 784, 785, 786, 788, 790, 791, 792, 794, 795, 796, 798, 800, 802, 804, 805, 806, 808, 810, 812, 814, 815, 816, 818, 819, 820, 822, 824, 825, 826, 828, 830, 832, 833, 834, 835, 836, 838, 840, 842, 844, 845, 846, 847, 848, 850, 852, 854, 855, 856, 858, 860, 861, 862, 864, 865, 866, 868, 870, 872, 874, 875, 876, 878, 880, 882, 884, 885, 886, 888, 889, 890, 892, 894, 895, 896, 898, 900, 902, 903, 904, 905, 906, 908, 910, 912, 914, 915, 916, 917, 918, 920, 922, 924, 925, 926, 928, 930, 931, 932, 934, 935, 936, 938, 940, 942, 944, 945, 946, 948, 950, 952, 954, 955, 956, 958, 959, 960, 962, 964, 965, 966, 968, 970, 972, 973, 974, 975, 976, 978, 980, 982, 984, 985, 986, 987, 988, 990, 992, 994, 995, 996, 998, 1000]\n"
     ]
    }
   ],
   "source": [
    "\n",
    "divisibles = [n for n in range (1, 1001) if n%2 ==0 or n%5 ==0 or n%7 ==0]\n",
    "print(divisibles)\n"
   ]
  },
  {
   "cell_type": "markdown",
   "id": "e4791228",
   "metadata": {},
   "source": [
    "## Define a customised exception to handle not accepted values. \n",
    "\n",
    "You have the following user inputs and the Num_of_sections can not be less than 2.\n",
    "\n",
    "**Hint: Create a class derived from the pre-defined Exception class in Python**"
   ]
  },
  {
   "cell_type": "code",
   "execution_count": null,
   "id": "86fa19bf",
   "metadata": {},
   "outputs": [],
   "source": [
    "Total_Marks = int(input(\"Enter Total Marks Scored: \")) \n",
    "Num_of_Sections = int(input(\"Enter Num of Sections: \"))"
   ]
  },
  {
   "cell_type": "code",
   "execution_count": 150,
   "id": "f80bb764",
   "metadata": {},
   "outputs": [],
   "source": [
    "class MiExcepcion(Exception):\n",
    "    def __init__(self, stringdescriptivo):\n",
    "        self.valor = stringdescriptivo\n",
    "    def __str__(self):\n",
    "        return f\"Error {self.valor}\""
   ]
  },
  {
   "cell_type": "code",
   "execution_count": 153,
   "id": "c4f66e2f",
   "metadata": {},
   "outputs": [
    {
     "name": "stdout",
     "output_type": "stream",
     "text": [
      "Enter Total Marks Scored: 3\n",
      "Enter Num of Sections: 6\n"
     ]
    }
   ],
   "source": [
    "try:\n",
    "    fin = False\n",
    "    while not fin:\n",
    "        Total_Marks = int(input(\"Enter Total Marks Scored: \")) \n",
    "        Num_of_Sections = int(input(\"Enter Num of Sections: \"))\n",
    "        \n",
    "        if Num_of_Sections <2:\n",
    "            raise MiExcepcion (f\"{Num_of_Sections} no es válido\")\n",
    "        elif Num_of_Sections >=2:\n",
    "            fin = True\n",
    "        #EL PROGRAMA HARÍA COSAS\n",
    "except MiExcepcion as err:\n",
    "    print(err)"
   ]
  },
  {
   "cell_type": "code",
   "execution_count": null,
   "id": "9a18f870",
   "metadata": {},
   "outputs": [],
   "source": []
  }
 ],
 "metadata": {
  "kernelspec": {
   "display_name": "Python 3",
   "language": "python",
   "name": "python3"
  },
  "language_info": {
   "codemirror_mode": {
    "name": "ipython",
    "version": 3
   },
   "file_extension": ".py",
   "mimetype": "text/x-python",
   "name": "python",
   "nbconvert_exporter": "python",
   "pygments_lexer": "ipython3",
   "version": "3.8.8"
  },
  "toc": {
   "base_numbering": 1,
   "nav_menu": {},
   "number_sections": true,
   "sideBar": true,
   "skip_h1_title": false,
   "title_cell": "Table of Contents",
   "title_sidebar": "Contents",
   "toc_cell": false,
   "toc_position": {},
   "toc_section_display": true,
   "toc_window_display": false
  }
 },
 "nbformat": 4,
 "nbformat_minor": 5
}
